{
 "cells": [
  {
   "cell_type": "markdown",
   "id": "545531d2-0a13-4494-b646-22ef1863191b",
   "metadata": {},
   "source": [
    "# Clinical Quesition Answering Using BERT\n",
    "\n",
    "What if we want to support any question a physician might want to ask instead of simpler rule-based questions such as \"is a disease present\"? To do this, we'll have to use more recent artificial intelligence techniques and large datasets as opposed to mere classification based on tabular data. In this project we go through the pre- and post-processing involved in applying [BERT](https://github.com/google-research/bert) to the problem of question answering. After developing this infrastructure, we use the model to answer questions from clinical notes.\n",
    "\n",
    "Implementing question answering can take a few steps, even using pretrained models. \n",
    "- First retrieve our model and tokenizer (preparing the input), mapping each word to a unique element in the vocabulary and inserting special tokens. \n",
    "- Then, the model processes these tokenized inputs to create valuable embeddings and performs tasks such as question answering!"
   ]
  },
  {
   "cell_type": "code",
   "execution_count": 1,
   "id": "07b0af1e-f1bc-489e-960b-2178e56e02fe",
   "metadata": {},
   "outputs": [
    {
     "ename": "ModuleNotFoundError",
     "evalue": "No module named 'transformers'",
     "output_type": "error",
     "traceback": [
      "\u001b[0;31m---------------------------------------------------------------------------\u001b[0m",
      "\u001b[0;31mModuleNotFoundError\u001b[0m                       Traceback (most recent call last)",
      "Cell \u001b[0;32mIn[1], line 1\u001b[0m\n\u001b[0;32m----> 1\u001b[0m \u001b[38;5;28;01mimport\u001b[39;00m \u001b[38;5;21;01mtransformers\u001b[39;00m\n",
      "\u001b[0;31mModuleNotFoundError\u001b[0m: No module named 'transformers'"
     ]
    }
   ],
   "source": [
    "import transformers"
   ]
  },
  {
   "cell_type": "markdown",
   "id": "85cf1198-fef0-48c6-83a0-22b9d1d9645e",
   "metadata": {},
   "source": [
    "## Load the Tokenizer"
   ]
  },
  {
   "cell_type": "code",
   "execution_count": null,
   "id": "cb72091b-14a4-41b2-afb2-1b47fc84021c",
   "metadata": {},
   "outputs": [],
   "source": []
  }
 ],
 "metadata": {
  "kernelspec": {
   "display_name": "Python 3 (ipykernel)",
   "language": "python",
   "name": "python3"
  },
  "language_info": {
   "codemirror_mode": {
    "name": "ipython",
    "version": 3
   },
   "file_extension": ".py",
   "mimetype": "text/x-python",
   "name": "python",
   "nbconvert_exporter": "python",
   "pygments_lexer": "ipython3",
   "version": "3.12.1"
  }
 },
 "nbformat": 4,
 "nbformat_minor": 5
}
